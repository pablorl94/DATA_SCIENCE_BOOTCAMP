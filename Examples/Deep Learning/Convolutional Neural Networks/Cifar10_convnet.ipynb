{
  "nbformat": 4,
  "nbformat_minor": 0,
  "metadata": {
    "colab": {
      "name": "ConvnetPablo.ipynb",
      "provenance": [],
      "collapsed_sections": []
    },
    "kernelspec": {
      "name": "python3",
      "display_name": "Python 3"
    },
    "accelerator": "GPU"
  },
  "cells": [
    {
      "cell_type": "code",
      "metadata": {
        "id": "NUHxzs9uzP3H",
        "colab_type": "code",
        "colab": {
          "base_uri": "https://localhost:8080/",
          "height": 88
        },
        "outputId": "db5b0056-c80c-4337-9190-773daeadfc22"
      },
      "source": [
        "# Importations\n",
        "\n",
        "import numpy as np\n",
        "import seaborn as sns\n",
        "import matplotlib.pyplot as plt\n",
        "from keras import models\n",
        "from keras import layers\n",
        "from keras import losses\n",
        "from keras import optimizers\n",
        "from keras.datasets import cifar10\n",
        "from keras.utils import to_categorical\n",
        "from sklearn.model_selection import train_test_split"
      ],
      "execution_count": 1,
      "outputs": [
        {
          "output_type": "stream",
          "text": [
            "/usr/local/lib/python3.6/dist-packages/statsmodels/tools/_testing.py:19: FutureWarning: pandas.util.testing is deprecated. Use the functions in the public API at pandas.testing instead.\n",
            "  import pandas.util.testing as tm\n",
            "Using TensorFlow backend.\n"
          ],
          "name": "stderr"
        }
      ]
    },
    {
      "cell_type": "code",
      "metadata": {
        "id": "dwZ2f9WyzT5h",
        "colab_type": "code",
        "colab": {}
      },
      "source": [
        "# Extracting and splitting data in train and test subsets\n",
        "\n",
        "(X_train, y_train), (X_test, y_test) = cifar10.load_data()"
      ],
      "execution_count": 2,
      "outputs": []
    },
    {
      "cell_type": "code",
      "metadata": {
        "id": "0o-SoW8qzUd9",
        "colab_type": "code",
        "colab": {}
      },
      "source": [
        "# Normalization of the pixel values (between 0 and 1)\n",
        "\n",
        "X_train = X_train.astype(\"float32\") / 255.\n",
        "X_test = X_test.astype(\"float32\") / 255."
      ],
      "execution_count": 3,
      "outputs": []
    },
    {
      "cell_type": "code",
      "metadata": {
        "id": "KgNzBuOvzZF8",
        "colab_type": "code",
        "colab": {}
      },
      "source": [
        "# Applying One Hot Encoder in the output labels\n",
        "\n",
        "Y_train = to_categorical(y_train)\n",
        "Y_test = to_categorical(y_test)"
      ],
      "execution_count": 4,
      "outputs": []
    },
    {
      "cell_type": "code",
      "metadata": {
        "id": "Q-MZM8SFzfij",
        "colab_type": "code",
        "colab": {}
      },
      "source": [
        "# Splitting train set into validation subset\n",
        "\n",
        "train_X, valid_X, train_y, valid_y = train_test_split(X_train, \n",
        "                                                      Y_train, \n",
        "                                                      test_size = 0.2, \n",
        "                                                      random_state = 13)"
      ],
      "execution_count": 5,
      "outputs": []
    },
    {
      "cell_type": "code",
      "metadata": {
        "id": "bM0nwWwizhzc",
        "colab_type": "code",
        "colab": {
          "base_uri": "https://localhost:8080/",
          "height": 969
        },
        "outputId": "493cfa5f-16ca-4a6d-ebbb-4ba39de521e1"
      },
      "source": [
        "# Model construction\n",
        "\n",
        "# Sequential model selection\n",
        "cifar10_model = models.Sequential()\n",
        "\n",
        "# Layers selection\n",
        "\n",
        "# Convolutional layers\n",
        "\n",
        "cifar10_model.add(layers.Conv2D(filters = 64, kernel_size = (3, 3), \n",
        "                                padding = \"same\", activation = \"linear\", \n",
        "                                input_shape = (32, 32, 3)))\n",
        "cifar10_model.add(layers.LeakyReLU(alpha=0.1))\n",
        "cifar10_model.add(layers.Conv2D(filters = 64, kernel_size = (3, 3), \n",
        "                                padding = \"same\", activation = \"linear\"))\n",
        "cifar10_model.add(layers.LeakyReLU(alpha=0.1))\n",
        "\n",
        "cifar10_model.add(layers.MaxPooling2D(pool_size = (2, 2), padding = \"same\"))\n",
        "cifar10_model.add(layers.Dropout(0.20))\n",
        "\n",
        "\n",
        "cifar10_model.add(layers.Conv2D(filters = 128, kernel_size = (3, 3), \n",
        "                                padding = \"same\", activation = \"linear\"))\n",
        "cifar10_model.add(layers.LeakyReLU(alpha=0.1))\n",
        "cifar10_model.add(layers.Conv2D(filters = 128, kernel_size = (3, 3), \n",
        "                                padding = \"same\", activation = \"linear\"))\n",
        "cifar10_model.add(layers.LeakyReLU(alpha=0.1))\n",
        "\n",
        "cifar10_model.add(layers.MaxPooling2D(pool_size = (2, 2), padding = \"same\"))\n",
        "cifar10_model.add(layers.Dropout(0.20))\n",
        "\n",
        "\n",
        "cifar10_model.add(layers.Conv2D(filters = 256, kernel_size = (3, 3), \n",
        "                                padding = \"same\", activation = \"linear\"))\n",
        "cifar10_model.add(layers.LeakyReLU(alpha=0.1))\n",
        "cifar10_model.add(layers.Conv2D(filters = 256, kernel_size = (3, 3), \n",
        "                                padding = \"same\", activation = \"linear\"))\n",
        "cifar10_model.add(layers.LeakyReLU(alpha=0.1))\n",
        "cifar10_model.add(layers.Conv2D(filters = 256, kernel_size = (3, 3), \n",
        "                                padding = \"same\", activation = \"linear\"))\n",
        "cifar10_model.add(layers.LeakyReLU(alpha=0.1))\n",
        "\n",
        "cifar10_model.add(layers.MaxPooling2D(pool_size = (2, 2), padding = \"same\"))\n",
        "cifar10_model.add(layers.Dropout(0.20))\n",
        "\n",
        "\n",
        "# Flatten layer\n",
        "cifar10_model.add(layers.Flatten())\n",
        "\n",
        "\n",
        "# Dense layers\n",
        "cifar10_model.add(layers.Dense(256, activation = \"relu\"))\n",
        "cifar10_model.add(layers.Dense(128, activation = \"relu\"))\n",
        "\n",
        "\n",
        "# Output layer: Softmax for multiple clasiffication\n",
        "cifar10_model.add(layers.Dense(10, activation = \"softmax\"))\n",
        "\n",
        "cifar10_model.summary()"
      ],
      "execution_count": 6,
      "outputs": [
        {
          "output_type": "stream",
          "text": [
            "Model: \"sequential_1\"\n",
            "_________________________________________________________________\n",
            "Layer (type)                 Output Shape              Param #   \n",
            "=================================================================\n",
            "conv2d_1 (Conv2D)            (None, 32, 32, 64)        1792      \n",
            "_________________________________________________________________\n",
            "leaky_re_lu_1 (LeakyReLU)    (None, 32, 32, 64)        0         \n",
            "_________________________________________________________________\n",
            "conv2d_2 (Conv2D)            (None, 32, 32, 64)        36928     \n",
            "_________________________________________________________________\n",
            "leaky_re_lu_2 (LeakyReLU)    (None, 32, 32, 64)        0         \n",
            "_________________________________________________________________\n",
            "max_pooling2d_1 (MaxPooling2 (None, 16, 16, 64)        0         \n",
            "_________________________________________________________________\n",
            "dropout_1 (Dropout)          (None, 16, 16, 64)        0         \n",
            "_________________________________________________________________\n",
            "conv2d_3 (Conv2D)            (None, 16, 16, 128)       73856     \n",
            "_________________________________________________________________\n",
            "leaky_re_lu_3 (LeakyReLU)    (None, 16, 16, 128)       0         \n",
            "_________________________________________________________________\n",
            "conv2d_4 (Conv2D)            (None, 16, 16, 128)       147584    \n",
            "_________________________________________________________________\n",
            "leaky_re_lu_4 (LeakyReLU)    (None, 16, 16, 128)       0         \n",
            "_________________________________________________________________\n",
            "max_pooling2d_2 (MaxPooling2 (None, 8, 8, 128)         0         \n",
            "_________________________________________________________________\n",
            "dropout_2 (Dropout)          (None, 8, 8, 128)         0         \n",
            "_________________________________________________________________\n",
            "conv2d_5 (Conv2D)            (None, 8, 8, 256)         295168    \n",
            "_________________________________________________________________\n",
            "leaky_re_lu_5 (LeakyReLU)    (None, 8, 8, 256)         0         \n",
            "_________________________________________________________________\n",
            "conv2d_6 (Conv2D)            (None, 8, 8, 256)         590080    \n",
            "_________________________________________________________________\n",
            "leaky_re_lu_6 (LeakyReLU)    (None, 8, 8, 256)         0         \n",
            "_________________________________________________________________\n",
            "conv2d_7 (Conv2D)            (None, 8, 8, 256)         590080    \n",
            "_________________________________________________________________\n",
            "leaky_re_lu_7 (LeakyReLU)    (None, 8, 8, 256)         0         \n",
            "_________________________________________________________________\n",
            "max_pooling2d_3 (MaxPooling2 (None, 4, 4, 256)         0         \n",
            "_________________________________________________________________\n",
            "dropout_3 (Dropout)          (None, 4, 4, 256)         0         \n",
            "_________________________________________________________________\n",
            "flatten_1 (Flatten)          (None, 4096)              0         \n",
            "_________________________________________________________________\n",
            "dense_1 (Dense)              (None, 256)               1048832   \n",
            "_________________________________________________________________\n",
            "dense_2 (Dense)              (None, 128)               32896     \n",
            "_________________________________________________________________\n",
            "dense_3 (Dense)              (None, 10)                1290      \n",
            "=================================================================\n",
            "Total params: 2,818,506\n",
            "Trainable params: 2,818,506\n",
            "Non-trainable params: 0\n",
            "_________________________________________________________________\n"
          ],
          "name": "stdout"
        }
      ]
    },
    {
      "cell_type": "code",
      "metadata": {
        "id": "EFx5qP8wzkmq",
        "colab_type": "code",
        "colab": {}
      },
      "source": [
        "# Compiling the model\n",
        "\n",
        "cifar10_model.compile(loss = losses.categorical_crossentropy,\n",
        "                      optimizer = optimizers.Adam(learning_rate=0.001),\n",
        "                      metrics = [\"accuracy\"])"
      ],
      "execution_count": 7,
      "outputs": []
    },
    {
      "cell_type": "code",
      "metadata": {
        "id": "ntevoyuKzpzL",
        "colab_type": "code",
        "colab": {
          "base_uri": "https://localhost:8080/",
          "height": 374
        },
        "outputId": "cd7421c2-9322-4a62-a716-dc8213837bb3"
      },
      "source": [
        "# Fitting the model and validating it\n",
        "\n",
        "history = cifar10_model.fit(train_X, train_y, \n",
        "                            epochs = 10, batch_size = 100, \n",
        "                            validation_data = (valid_X, valid_y))"
      ],
      "execution_count": 8,
      "outputs": [
        {
          "output_type": "stream",
          "text": [
            "Train on 40000 samples, validate on 10000 samples\n",
            "Epoch 1/10\n",
            "40000/40000 [==============================] - 34s 855us/step - loss: 1.6448 - accuracy: 0.3882 - val_loss: 1.1673 - val_accuracy: 0.5789\n",
            "Epoch 2/10\n",
            "40000/40000 [==============================] - 32s 800us/step - loss: 1.0610 - accuracy: 0.6233 - val_loss: 0.9610 - val_accuracy: 0.6661\n",
            "Epoch 3/10\n",
            "40000/40000 [==============================] - 32s 798us/step - loss: 0.8110 - accuracy: 0.7164 - val_loss: 0.7550 - val_accuracy: 0.7345\n",
            "Epoch 4/10\n",
            "40000/40000 [==============================] - 32s 798us/step - loss: 0.6637 - accuracy: 0.7703 - val_loss: 0.6440 - val_accuracy: 0.7785\n",
            "Epoch 5/10\n",
            "40000/40000 [==============================] - 32s 799us/step - loss: 0.5545 - accuracy: 0.8058 - val_loss: 0.6387 - val_accuracy: 0.7833\n",
            "Epoch 6/10\n",
            "40000/40000 [==============================] - 32s 800us/step - loss: 0.4683 - accuracy: 0.8364 - val_loss: 0.6455 - val_accuracy: 0.7975\n",
            "Epoch 7/10\n",
            "40000/40000 [==============================] - 32s 796us/step - loss: 0.4109 - accuracy: 0.8563 - val_loss: 0.6171 - val_accuracy: 0.8001\n",
            "Epoch 8/10\n",
            "40000/40000 [==============================] - 32s 797us/step - loss: 0.3572 - accuracy: 0.8742 - val_loss: 0.6561 - val_accuracy: 0.7928\n",
            "Epoch 9/10\n",
            "40000/40000 [==============================] - 32s 796us/step - loss: 0.3102 - accuracy: 0.8924 - val_loss: 0.6415 - val_accuracy: 0.8037\n",
            "Epoch 10/10\n",
            "40000/40000 [==============================] - 32s 797us/step - loss: 0.2827 - accuracy: 0.9022 - val_loss: 0.7267 - val_accuracy: 0.7876\n"
          ],
          "name": "stdout"
        }
      ]
    },
    {
      "cell_type": "code",
      "metadata": {
        "id": "5t3FxdnUbmpx",
        "colab_type": "code",
        "colab": {
          "base_uri": "https://localhost:8080/",
          "height": 551
        },
        "outputId": "1362a116-b132-4d52-931a-a0e908b1ed01"
      },
      "source": [
        "sns.set()\n",
        "\n",
        "acc = history.history['accuracy']\n",
        "val_acc = history.history['val_accuracy']\n",
        "loss = history.history['loss']\n",
        "val_loss = history.history['val_loss']\n",
        "\n",
        "epochs = range(len(acc))\n",
        "\n",
        "plt.plot(epochs, acc, 'bo-', label='Training accuracy')\n",
        "plt.plot(epochs, val_acc, 'r', label='Validation accuracy')\n",
        "plt.title('Training and validation accuracy')\n",
        "plt.legend()\n",
        "\n",
        "plt.figure()\n",
        "\n",
        "plt.plot(epochs, loss, 'bo-', label='Training loss')\n",
        "plt.plot(epochs, val_loss, 'r', label='Validation loss')\n",
        "plt.title('Training and validation loss')\n",
        "plt.legend()\n",
        "\n",
        "plt.show()"
      ],
      "execution_count": 9,
      "outputs": [
        {
          "output_type": "display_data",
          "data": {
            "image/png": "[encoded data removed]",
            "text/plain": [
              "<Figure size 432x288 with 1 Axes>"
            ]
          },
          "metadata": {
            "tags": []
          }
        },
        {
          "output_type": "display_data",
          "data": {
            "image/png": "[encoded data removed]",
            "text/plain": [
              "<Figure size 432x288 with 1 Axes>"
            ]
          },
          "metadata": {
            "tags": []
          }
        }
      ]
    },
    {
      "cell_type": "code",
      "metadata": {
        "id": "eDj66N0tzuSz",
        "colab_type": "code",
        "colab": {
          "base_uri": "https://localhost:8080/",
          "height": 34
        },
        "outputId": "464da792-476c-40b6-9f55-9c72416fbb2b"
      },
      "source": [
        "# Evaluating the model with the test subset\n",
        "\n",
        "test_loss, test_acc = cifar10_model.evaluate(X_test, Y_test)"
      ],
      "execution_count": 10,
      "outputs": [
        {
          "output_type": "stream",
          "text": [
            "10000/10000 [==============================] - 4s 376us/step\n"
          ],
          "name": "stdout"
        }
      ]
    },
    {
      "cell_type": "code",
      "metadata": {
        "id": "38RH9Mf5WJG7",
        "colab_type": "code",
        "colab": {
          "base_uri": "https://localhost:8080/",
          "height": 34
        },
        "outputId": "d3faabff-5863-457f-83dd-2da4a0cc2693"
      },
      "source": [
        "# Model's accuracy\n",
        "\n",
        "test_acc"
      ],
      "execution_count": 11,
      "outputs": [
        {
          "output_type": "execute_result",
          "data": {
            "text/plain": [
              "0.7821000218391418"
            ]
          },
          "metadata": {
            "tags": []
          },
          "execution_count": 11
        }
      ]
    }
  ]
}