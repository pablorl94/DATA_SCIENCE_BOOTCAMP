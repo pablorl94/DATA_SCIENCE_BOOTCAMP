{
 "cells": [
  {
   "cell_type": "code",
   "execution_count": 1,
   "metadata": {},
   "outputs": [],
   "source": [
    "# Importations\n",
    "\n",
    "import json\n",
    "import pandas as pd"
   ]
  },
  {
   "cell_type": "code",
   "execution_count": null,
   "metadata": {},
   "outputs": [],
   "source": [
    "# GENERAL"
   ]
  },
  {
   "cell_type": "code",
   "execution_count": 3,
   "metadata": {},
   "outputs": [],
   "source": [
    "def obtain_coordinates(dataframe, lng_col = \"Longitude\", lat_col = \"Latitude\"):\n",
    "    \n",
    "    \"\"\"\n",
    "    Extract coordinates from a DataFrame by its columns' names.\n",
    "    \"\"\"\n",
    "    \n",
    "    coordinates = []\n",
    "    for row in range(len(dataframe)):\n",
    "        coordinates.append({\"lng\": dataframe[lng_col][row], \n",
    "                            \"lat\": dataframe[lat_col][row]})\n",
    "        \n",
    "    return coordinates"
   ]
  },
  {
   "cell_type": "code",
   "execution_count": 4,
   "metadata": {},
   "outputs": [],
   "source": [
    "def write_json(data, filename):\n",
    "    \n",
    "    \"\"\"\n",
    "    Write data in a file in json format.\n",
    "    \"\"\"\n",
    "    \n",
    "    with open(filename, \"w\") as file:\n",
    "        json.dump(data, file)\n",
    "        \n",
    "def read_json(filename):\n",
    "    \n",
    "    \"\"\"\n",
    "    Read a file in json format.\n",
    "    \"\"\"\n",
    "    \n",
    "    with open(filename) as file:\n",
    "        json_data = file.read()\n",
    "        \n",
    "    return json.loads(json_data)"
   ]
  },
  {
   "cell_type": "code",
   "execution_count": null,
   "metadata": {},
   "outputs": [],
   "source": [
    "# MAPS"
   ]
  },
  {
   "cell_type": "code",
   "execution_count": 6,
   "metadata": {},
   "outputs": [],
   "source": [
    "def create_feature(coordinates):\n",
    "    \n",
    "    \"\"\"\n",
    "    Create a feature in json format.\n",
    "    \"\"\"\n",
    "    \n",
    "    lng, lat = coordinates[\"lng\"], coordinates[\"lat\"]\n",
    "    feature = {\"type\": \"Feature\", \n",
    "               \"geometry\": { \"type\": \"Point\", \n",
    "                             \"coordinates\": [lng, lat]}}\n",
    "    \n",
    "    return feature"
   ]
  },
  {
   "cell_type": "code",
   "execution_count": 7,
   "metadata": {},
   "outputs": [],
   "source": [
    "def create_feature_collection(collection):\n",
    "    \n",
    "    \"\"\"\n",
    "    Create a feature collection in json format.\n",
    "    \"\"\"\n",
    "    \n",
    "    feature_collection = {\"type\": \"FeatureCollection\",\n",
    "                          \"features\": collection}\n",
    "    \n",
    "    return feature_collection"
   ]
  },
  {
   "cell_type": "code",
   "execution_count": 8,
   "metadata": {},
   "outputs": [],
   "source": [
    "def obtain_feature_collection(coordinates):\n",
    "    \n",
    "    \"\"\"\n",
    "    Generalize the creation of a feature collection.\n",
    "    \"\"\"\n",
    "    \n",
    "    collection = []\n",
    "    for pair in coordinates:\n",
    "        collection.append(create_feature(pair))\n",
    "    \n",
    "    return create_feature_collection(collection)"
   ]
  },
  {
   "cell_type": "code",
   "execution_count": 12,
   "metadata": {},
   "outputs": [],
   "source": [
    "def obtain_df_feature_collection(dataframe):\n",
    "    \n",
    "    \"\"\"\n",
    "    Create a feature collection from a DataFrame.\n",
    "    \"\"\"\n",
    "    \n",
    "    coordinates = obtain_coordinates(dataframe, \n",
    "                                     lng_col = \"Longitud\", \n",
    "                                     lat_col = \"Latitud\")\n",
    "    \n",
    "    return obtain_feature_collection(coordinates)"
   ]
  },
  {
   "cell_type": "code",
   "execution_count": 13,
   "metadata": {},
   "outputs": [],
   "source": [
    "# ROUTES"
   ]
  },
  {
   "cell_type": "code",
   "execution_count": 14,
   "metadata": {},
   "outputs": [],
   "source": [
    "# Creación de objeto json para las rutas\n",
    "\n",
    "def create_route_json(coordinates, dtype = \"dict\"):\n",
    "    \n",
    "    \"\"\"\n",
    "    Create a route with coordinates in json format.\n",
    "    \"\"\"\n",
    "    \n",
    "    if dtype == \"dict\":\n",
    "        coordinates = [[element[\"lng\"], element[\"lat\"]] for element in coordinates]\n",
    "    elif dtype == \"list\":\n",
    "        coordinates = [[element[0], element[1]] for element in coordinates]\n",
    "        \n",
    "    route = {\"type\": \"Feature\",\n",
    "             \"geometry\": {\"type\": \"LineString\", \n",
    "                          \"coordinates\": coordinates}}\n",
    "    return route"
   ]
  }
 ],
 "metadata": {
  "kernelspec": {
   "display_name": "Python 3",
   "language": "python",
   "name": "python3"
  },
  "language_info": {
   "codemirror_mode": {
    "name": "ipython",
    "version": 3
   },
   "file_extension": ".py",
   "mimetype": "text/x-python",
   "name": "python",
   "nbconvert_exporter": "python",
   "pygments_lexer": "ipython3",
   "version": "3.7.6"
  }
 },
 "nbformat": 4,
 "nbformat_minor": 4
}
