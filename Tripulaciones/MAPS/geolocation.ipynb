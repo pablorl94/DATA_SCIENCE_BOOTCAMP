{
 "cells": [
  {
   "cell_type": "code",
   "execution_count": 1,
   "metadata": {},
   "outputs": [],
   "source": [
    "# Importations\n",
    "\n",
    "import requests\n",
    "import json\n",
    "import numpy as np\n",
    "import pandas as pd\n",
    "from time import sleep\n",
    "from urllib.parse import urlencode\n",
    "from math import sin, cos, sqrt, atan2, radians"
   ]
  },
  {
   "cell_type": "code",
   "execution_count": 2,
   "metadata": {},
   "outputs": [],
   "source": [
    "# API KEY from Google Maps API\n",
    "\n",
    "API_KEY = \"\"\n",
    "\n",
    "\n",
    "# Perimeter coordinates of the study area\n",
    "\n",
    "LAT1 = 40.448299\n",
    "LAT2 = 40.431397\n",
    "LONG1 = -3.700018\n",
    "LONG2 = -3.722460\n",
    "\n",
    "\n",
    "# Search categories list\n",
    "\n",
    "CATEGORIES = [\"airport\", \"bar\", \"bus_station\", \"cafe\", \"church\", \"city_hall\",\n",
    "              \"convenience_store\", \"department_store\", \"hospital\", \n",
    "              \"light_rail_station\", \"local_government_office\", \"night_club\",\n",
    "              \"park\", \"parking\", \"pharmacy\", \"post_office\", \"primary_school\", \n",
    "              \"restaurant\", \"school\", \"secondary_school\", \"shopping_mall\", \n",
    "              \"stadium\", \"subway_station\", \"synagogue\", \"taxi_stand\", \n",
    "              \"tourist_attraction\", \"train_station\", \"transit_station\", \"university\"]"
   ]
  },
  {
   "cell_type": "code",
   "execution_count": 3,
   "metadata": {},
   "outputs": [],
   "source": [
    "# Big categories (2x2 searches)\n",
    "\n",
    "CATEGORIES_BIG = [\"airport\", \"city_hall\", \"light_rail_station\", \"post_office\", \n",
    "                  \"shopping_mall\", \"stadium\", \"train_station\", \"university\"]\n",
    "\n",
    "\n",
    "# Medium categories (4x4 searches)\n",
    "\n",
    "CATEGORIES_MEDIUM = [\"bus_station\", \"church\", \"department_store\", \"hospital\", \n",
    "                     \"local_government_office\", \"night_club\", \"park\", \"parking\", \n",
    "                     \"primary_school\", \"school\", \"secondary_school\", \n",
    "                     \"subway_station\", \"synagogue\", \"taxi_stand\", \n",
    "                     \"tourist_attraction\", \"train_station\", \"transit_station\"]\n",
    "\n",
    "\n",
    "# Small categories (8x8 searches)\n",
    "\n",
    "CATEGORIES_SMALL = [\"bar\", \"cafe\", \"convenience_store\", \"pharmacy\", \"restaurant\"]"
   ]
  },
  {
   "cell_type": "code",
   "execution_count": 4,
   "metadata": {},
   "outputs": [],
   "source": [
    "def calculate_distance(point1, point2):\n",
    "    \n",
    "    \"\"\"\n",
    "    Calculate the distance (in kilometers) between two points given\n",
    "    by their latitude and longitude coordinates.\n",
    "    \"\"\"\n",
    "    \n",
    "    # Earth's aproximated radio in kilometers\n",
    "    R = 6373.0\n",
    "    \n",
    "    # Coordinates need to be in radians\n",
    "    lat1, lng1 = radians(float(point1[0])), radians(float(point1[1]))\n",
    "    lat2, lng2 = radians(float(point2[0])), radians(float(point2[1]))\n",
    "    \n",
    "    # Difference between latitudes and longitudes\n",
    "    dlon = lng2 - lng1\n",
    "    dlat = lat2 - lat1\n",
    "    \n",
    "    # Distance estimation\n",
    "    a = sin(dlat/2)**2 + cos(lat1) * cos(lat2) * sin(dlon/2)**2\n",
    "    c = 2 * atan2(sqrt(a), sqrt(1 - a))\n",
    "\n",
    "    distance = R * c\n",
    "    \n",
    "    return distance"
   ]
  },
  {
   "cell_type": "code",
   "execution_count": 5,
   "metadata": {},
   "outputs": [],
   "source": [
    "def define_search_geometry(lats, lngs, n_lat=8, n_lng=8):\n",
    "    \n",
    "    \"\"\"\n",
    "    Determine the coordinates and radius needed to get a search in the\n",
    "    study area (delimited by its latitudes and longitudes). The number\n",
    "    of searches are given by the n_lat and n_lng parameters.\n",
    "    \"\"\"\n",
    "    \n",
    "    # Latitudes' geometry\n",
    "    lat1, lat2 = lats[0], lats[1]\n",
    "    lat_separation = (lat2 - lat1)/n_lat\n",
    "    lat_geometry = np.array(lat1) + (np.arange(n_lat) + 0.5) * lat_separation\n",
    "    \n",
    "    # Longitudes' geometry\n",
    "    lng1, lng2 = lngs[0], lngs[1]\n",
    "    lng_separation = (lng2 - lng1)/n_lng\n",
    "    lng_geometry = np.array(lng1) + (np.arange(n_lng) + 0.5) * lng_separation\n",
    "    \n",
    "    # Resultant geometry\n",
    "    coordinates = [(lat, lng) for lat in lat_geometry for lng in lng_geometry]\n",
    "    \n",
    "    lat_sep_distance = calculate_distance([lat1, lng1], [lat1 + lat_separation, lng1])\n",
    "    lng_sep_distance = calculate_distance([lat1, lng1], [lat1, lng1 + lng_separation])\n",
    "    radius = sqrt(lat_sep_distance**2 + lng_sep_distance**2)/2 * 1000\n",
    "    \n",
    "    geometry = {\"coordinates\": coordinates, \"radius\": radius}\n",
    "    \n",
    "    return geometry"
   ]
  },
  {
   "cell_type": "code",
   "execution_count": 6,
   "metadata": {},
   "outputs": [],
   "source": [
    "def generate_url(api_key, coordinates, radius, keyword=None, placetype=None, output=\"json\"):\n",
    "    \n",
    "    \"\"\"\n",
    "    Generate an URL with the Nearby Search tool from Google Maps Places API.\n",
    "    \"\"\"\n",
    "    \n",
    "    # Endpoint generation\n",
    "    endpoint = f\"https://maps.googleapis.com/maps/api/place/nearbysearch/{output}\"\n",
    "    \n",
    "    # Parameters generation and encoding\n",
    "    parameters = {\"key\": api_key, \n",
    "                  \"location\": f\"{coordinates[0]},{coordinates[1]}\", \n",
    "                  \"radius\": radius,}\n",
    "    \n",
    "    if keyword:\n",
    "        parameters[\"keyword\"] = keyword\n",
    "    if placetype:\n",
    "        parameters[\"type\"] = placetype\n",
    "    \n",
    "    url_parameters = urlencode(parameters)\n",
    "    \n",
    "    # URL generation\n",
    "    url = f\"{endpoint}?{url_parameters}\"\n",
    "    \n",
    "    return url"
   ]
  },
  {
   "cell_type": "code",
   "execution_count": 7,
   "metadata": {},
   "outputs": [],
   "source": [
    "def get_url(url):\n",
    "    \n",
    "    \"\"\"\n",
    "    Get a given URL in json format.\n",
    "    \"\"\"\n",
    "    \n",
    "    return requests.get(url).json()"
   ]
  },
  {
   "cell_type": "code",
   "execution_count": 8,
   "metadata": {},
   "outputs": [],
   "source": [
    "def write_json(filename, json_data):\n",
    "    \n",
    "    \"\"\"\n",
    "    Write data in a file in json format.\n",
    "    \"\"\"\n",
    "    \n",
    "    with open(filename, \"a\") as file:\n",
    "        file.write(json.dumps(json_data))\n",
    "        file.write(\"\\n\\n\")"
   ]
  },
  {
   "cell_type": "code",
   "execution_count": 9,
   "metadata": {},
   "outputs": [],
   "source": [
    "def read_json(filename):\n",
    "    \n",
    "    \"\"\"\n",
    "    Read data from a file in json format.\n",
    "    \"\"\"\n",
    "    \n",
    "    with open(filename, \"r\") as file:\n",
    "        json_data = file.read()\n",
    "        \n",
    "    return json.loads(json_data)"
   ]
  },
  {
   "cell_type": "code",
   "execution_count": 10,
   "metadata": {},
   "outputs": [],
   "source": [
    "def search_nearby_places(api_key, filename, coordinates, radius, \n",
    "                         keyword=None, placetype=None, output=\"json\"):\n",
    "    \n",
    "    \"\"\"\n",
    "    Get a search with the Nearby Search tool by a keyword or a placetype.\n",
    "    \"\"\"\n",
    "    \n",
    "    # Generate the URL direction\n",
    "    url = generate_url(api_key, coordinates, radius, keyword=keyword, \n",
    "                       placetype=placetype, output=output)\n",
    "    \n",
    "    # Access to the URL\n",
    "    rjson = get_url(url)\n",
    "    \n",
    "    # Write the results of the extraction in a file\n",
    "    write_json(filename, rjson)\n",
    "    \n",
    "    # Check if there exists another page\n",
    "    while \"next_page_token\" in rjson.keys():\n",
    "        sleep(2)             # A needed wait the token to work properly\n",
    "        rjson = get_url(url + f\"&pagetoken={rjson['next_page_token']}\")\n",
    "        write_json(filename, rjson)"
   ]
  },
  {
   "cell_type": "code",
   "execution_count": 11,
   "metadata": {},
   "outputs": [],
   "source": [
    "def extract_nearby_places(geometry_params, search_params, filename):\n",
    "    \n",
    "    \"\"\"\n",
    "    Generalize the data extraction including search geometry. \n",
    "    \"\"\"\n",
    "    \n",
    "    # Define the search geometry\n",
    "    geometry = define_search_geometry(lats = geometry_params[\"lats\"], \n",
    "                                      lngs = geometry_params[\"lngs\"], \n",
    "                                      n_lat = geometry_params[\"n_lat\"], \n",
    "                                      n_lng = geometry_params[\"n_lng\"])\n",
    "    \n",
    "    # Search nearby places with the desired parameters\n",
    "    for i in range(len(geometry[\"coordinates\"])):\n",
    "        search_nearby_places(api_key = search_params[\"api_key\"],\n",
    "                             filename = filename,\n",
    "                             coordinates = geometry[\"coordinates\"][i], \n",
    "                             radius = geometry[\"radius\"], \n",
    "                             keyword = search_params[\"keyword\"],\n",
    "                             placetype = search_params[\"placetype\"], \n",
    "                             output=\"json\")\n",
    "        \n",
    "        print(\"Done.\")"
   ]
  },
  {
   "cell_type": "code",
   "execution_count": null,
   "metadata": {},
   "outputs": [],
   "source": [
    "### EXAMPLE ###"
   ]
  },
  {
   "cell_type": "code",
   "execution_count": 12,
   "metadata": {},
   "outputs": [],
   "source": [
    "# Geometric and search parameters\n",
    "\n",
    "geometry_params = {\"lats\": [LAT1, LAT2], \"lngs\": [LONG1, LONG2], \"n_lat\": 2, \"n_lng\": 2}\n",
    "search_params = {\"api_key\": API_KEY, \"keyword\": \"geriatria\", \"placetype\": None}\n",
    "\n",
    "\n",
    "# Output file name\n",
    "\n",
    "filename = \"example1\""
   ]
  },
  {
   "cell_type": "code",
   "execution_count": 13,
   "metadata": {
    "collapsed": true,
    "jupyter": {
     "outputs_hidden": true
    }
   },
   "outputs": [
    {
     "name": "stdout",
     "output_type": "stream",
     "text": [
      "Done.\n",
      "Done.\n",
      "Done.\n",
      "Done.\n"
     ]
    }
   ],
   "source": [
    "# The search\n",
    "\n",
    "extract_nearby_places(geometry_params, search_params, filename)"
   ]
  },
  {
   "cell_type": "code",
   "execution_count": 7,
   "metadata": {},
   "outputs": [],
   "source": [
    "def generate_url_2(api_key, text, coordinates, radius, inputtype = \"textquery\", output=\"json\"):\n",
    "    \n",
    "    \"\"\"\n",
    "    Generate an URL with the Search Place tool from Google Maps Places API.\n",
    "    \"\"\"\n",
    "    \n",
    "    # Endpoint generation\n",
    "    endpoint = f\"https://maps.googleapis.com/maps/api/place/findplacefromtext/{output}\"\n",
    "    \n",
    "    # Parameters generation and encoding\n",
    "    lat, lng = coordinates[0], coordinates[1]\n",
    "    parameters = {\"key\": api_key, \n",
    "                  \"input\": text,\n",
    "                  \"inputtype\": inputtype,\n",
    "                  \"locationbias\": f\"circle:{radius}@{lat},{lng}\", \n",
    "                  \"radius\": radius,\n",
    "                 }\n",
    "    url_parameters = urlencode(parameters)\n",
    "    \n",
    "    # URL generation\n",
    "    url = f\"{endpoint}?{url_parameters}\"\n",
    "    \n",
    "    return url"
   ]
  },
  {
   "cell_type": "code",
   "execution_count": 15,
   "metadata": {},
   "outputs": [],
   "source": [
    "def search_places_by_text(api_key, text, coordinates, radius, filename, output=\"json\"):\n",
    "    \n",
    "    \"\"\"\n",
    "    Get a search with the Search Place tool by a text.\n",
    "    \"\"\"\n",
    "    \n",
    "    # Generate the URL direction\n",
    "    url = generate_url_2(api_key, text, coordinates, radius)\n",
    "    \n",
    "    # Access to the URL\n",
    "    rjson = get_url(url)\n",
    "    \n",
    "    # Write the results of the extraction in a file\n",
    "    write_json(filename, rjson)\n",
    "    \n",
    "    # Check if there exists another page\n",
    "    while \"next_page_token\" in rjson.keys():\n",
    "        sleep(2)\n",
    "        rjson = get_url(url + f\"&pagetoken={rjson['next_page_token']}\")\n",
    "        write_json(filename, rjson)"
   ]
  },
  {
   "cell_type": "code",
   "execution_count": 17,
   "metadata": {},
   "outputs": [],
   "source": [
    "def extract_places_by_text(geometry_params, search_params, filename):\n",
    "    \n",
    "    \"\"\"\n",
    "    Generalize the data extraction including search geometry. \n",
    "    \"\"\"\n",
    "    \n",
    "    # Define the search geometry\n",
    "    geometry = define_search_geometry(lats = geometry_params[\"lats\"], \n",
    "                                      lngs = geometry_params[\"lngs\"], \n",
    "                                      n_lat = geometry_params[\"n_lat\"], \n",
    "                                      n_lng = geometry_params[\"n_lng\"])\n",
    "    \n",
    "    # Search a place with the desired parameters\n",
    "    for i in range(len(geometry[\"coordinates\"])):\n",
    "        search_places_by_text(api_key = search_params[\"api_key\"], \n",
    "                              coordinates = geometry[\"coordinates\"][i], \n",
    "                              radius = geometry[\"radius\"], \n",
    "                              text = search_params[\"text\"], \n",
    "                              filename = filename, \n",
    "                              output=\"json\")\n",
    "        \n",
    "        print(\"Done.\")"
   ]
  },
  {
   "cell_type": "code",
   "execution_count": null,
   "metadata": {},
   "outputs": [],
   "source": [
    "### EXAMPLE ###"
   ]
  },
  {
   "cell_type": "code",
   "execution_count": null,
   "metadata": {},
   "outputs": [],
   "source": [
    "# Geometric and search parameters\n",
    "\n",
    "geometry_params = {\"lats\": [LAT1, LAT2], \"lngs\": [LONG1, LONG2], \"n_lat\": 2, \"n_lng\": 2}\n",
    "search_params = {\"api_key\": API_KEY, \"text\": \"dia\"}\n",
    "\n",
    "\n",
    "# Output file name\n",
    "\n",
    "filename = \"example2\""
   ]
  },
  {
   "cell_type": "code",
   "execution_count": 19,
   "metadata": {},
   "outputs": [
    {
     "name": "stdout",
     "output_type": "stream",
     "text": [
      "Done.\n",
      "Done.\n",
      "Done.\n",
      "Done.\n"
     ]
    }
   ],
   "source": [
    "# The search\n",
    "\n",
    "extract_places_by_text(geometry_params, search_params_2, filename)"
   ]
  }
 ],
 "metadata": {
  "kernelspec": {
   "display_name": "Python 3",
   "language": "python",
   "name": "python3"
  },
  "language_info": {
   "codemirror_mode": {
    "name": "ipython",
    "version": 3
   },
   "file_extension": ".py",
   "mimetype": "text/x-python",
   "name": "python",
   "nbconvert_exporter": "python",
   "pygments_lexer": "ipython3",
   "version": "3.7.6"
  }
 },
 "nbformat": 4,
 "nbformat_minor": 4
}
