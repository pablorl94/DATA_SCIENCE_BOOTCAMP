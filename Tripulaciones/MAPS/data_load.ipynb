{
 "cells": [
  {
   "cell_type": "code",
   "execution_count": 1,
   "metadata": {},
   "outputs": [],
   "source": [
    "# Importations\n",
    "\n",
    "import json\n",
    "import numpy as np\n",
    "import pandas as pd\n",
    "from random import choice\n",
    "from os import listdir\n",
    "from os.path import isfile, isdir"
   ]
  },
  {
   "cell_type": "code",
   "execution_count": 2,
   "metadata": {},
   "outputs": [],
   "source": [
    "# Considered categories\n",
    "\n",
    "CATEGORIES = [\"bar\", \"bus_station\", \"cafe\", \"department_store\", \"hospital\", \"park\", \n",
    "              \"parking\", \"pharmacy\", \"primary_school\", \"restaurant\", \n",
    "              \"school\", \"secondary_school\", \"shopping_mall\", \"subway_station\", \n",
    "              \"taxi_stand\", \"tourist_attraction\", \"transit_station\", \"university\"]\n",
    "\n",
    "#CATEGORIES = [\"protect\"]\n",
    "\n",
    "# Groups for categories\n",
    "\n",
    "DICT_CATEGORIES = {\"TRANSPORTS\": [\"bus_station\", \"subway_station\", \"parking\", \n",
    "                                  \"taxi_stand\", \"transit_station\"],\n",
    "                   \"ESTABLISHMENTS\": [\"bar\", \"cafe\", \"restaurant\"],\n",
    "                   \"STORES\": [\"department_store\", \"shopping_mall\"],\n",
    "                   \"HEALTH\": [\"hospital\", \"pharmacy\"],\n",
    "                   \"PROTECT\": [\"protect\"],\n",
    "                   \"EDUCATION\": [\"primary_school\", \"school\", \"secondary_school\", \n",
    "                                 \"university\"],\n",
    "                   \"OTHER\": [\"park\", \"tourist_attraction\"]}"
   ]
  },
  {
   "cell_type": "code",
   "execution_count": 3,
   "metadata": {},
   "outputs": [],
   "source": [
    "# List of the extracted files in considered categories\n",
    "\n",
    "FILES = sorted([file for file in CATEGORIES if isfile(file)])\n",
    "\n",
    "for file in FILES[:]:\n",
    "    if file.startswith(\".\"):\n",
    "        files.remove(file)\n",
    "    elif file.endswith(\"ipynb\") or file.endswith(\"csv\"):\n",
    "        files.remove(file)"
   ]
  },
  {
   "cell_type": "code",
   "execution_count": 4,
   "metadata": {},
   "outputs": [],
   "source": [
    "def sample(dataframe, p = 0.8):\n",
    "    \n",
    "    \"\"\"\n",
    "    Extract a random subset from a DataFrame as a p percent of the original.\n",
    "    \"\"\"\n",
    "    \n",
    "    nrows, ncols = dataframe.shape\n",
    "    sample = np.random.choice(range(0, nrows - 1), \n",
    "                              size = round(p * nrows), \n",
    "                              replace = False)\n",
    "    \n",
    "    return dataframe.iloc[np.sort(sample), :]\n",
    "\n",
    "\n",
    "def assign_category(dataframe, placetype):\n",
    "    \n",
    "    \"\"\"\n",
    "    Filter a DataFrame to assign the correspondant group to a category.\n",
    "    \"\"\"\n",
    "    \n",
    "    for category in DICT_CATEGORIES.keys():\n",
    "        if placetype in DICT_CATEGORIES[category]:\n",
    "            dataframe[\"Types\"] = category\n",
    "            break\n",
    "    \n",
    "    return dataframe"
   ]
  },
  {
   "cell_type": "code",
   "execution_count": 5,
   "metadata": {},
   "outputs": [],
   "source": [
    "def create_dataframes_list(files_list):\n",
    "    \n",
    "    \"\"\"\n",
    "    Read extracted files and create a list of DataFrames by categories.\n",
    "    \"\"\"\n",
    "    \n",
    "    dataframes = []\n",
    "    for file in files_list:\n",
    "        \n",
    "        # Read extracted files\n",
    "        with open(file, \"r\") as file:\n",
    "            data = file.read().split(\"\\n\\n\")\n",
    "    \n",
    "        while \"\" in data:\n",
    "            data.remove(\"\")\n",
    "    \n",
    "        jsons_data = []\n",
    "        for element in data:\n",
    "            if json.loads(element)[\"results\"]:\n",
    "                jsons_data.append(json.loads(element)[\"results\"])\n",
    "                \n",
    "        # Add the result of the searches to a list\n",
    "        dataframe = []\n",
    "        for element in jsons_data:\n",
    "            df = pd.DataFrame()\n",
    "            df[\"Name\"] = [place[\"name\"] for place in element]\n",
    "            df[\"Latitude\"] = [place[\"geometry\"][\"location\"][\"lat\"] for place in element]\n",
    "            df[\"Longitude\"] = [place[\"geometry\"][\"location\"][\"lng\"] for place in element]\n",
    "            df[\"Types\"] = [place[\"types\"] for place in element]\n",
    "            dataframe.append(df)\n",
    "        \n",
    "        if dataframe:\n",
    "            dataframes.append(pd.concat(dataframe, ignore_index = True))\n",
    "            \n",
    "    return dataframes"
   ]
  },
  {
   "cell_type": "code",
   "execution_count": 6,
   "metadata": {},
   "outputs": [],
   "source": [
    "def assign_dataframe_list(dataframe_list, categories):\n",
    "    \n",
    "    \"\"\"\n",
    "    Generalize the group assignment to a list of DataFrames.\n",
    "    \"\"\"\n",
    "    \n",
    "    for dataframe, placetype in zip(dataframe_list, categories):\n",
    "        assign_category(dataframe, placetype)\n",
    "        \n",
    "    return dataframe_list\n",
    "\n",
    "\n",
    "def reduce_dataframe_list(dataframe_list):\n",
    "    \n",
    "    \"\"\"\n",
    "    Generalize the DataFrame reduction to a list of DataFrames.\n",
    "    \"\"\"\n",
    "    \n",
    "    return [sample(dataframe).reset_index(drop=True) for dataframe in dataframe_list]\n",
    "\n",
    "\n",
    "def create_unique_dataframe(dataframe_list):\n",
    "    \n",
    "    \"\"\"\n",
    "    Create a unique DataFrame without duplicates from a list of DataFrames.\n",
    "    \"\"\"\n",
    "    \n",
    "    dataframe = pd.concat(dataframe_list, ignore_index = True)\n",
    "    dataframe.drop_duplicates([\"Latitude\", \"Longitude\"], inplace=True)\n",
    "    dataframe.reset_index(drop=True, inplace=True)\n",
    "    \n",
    "    return dataframe"
   ]
  },
  {
   "cell_type": "code",
   "execution_count": 7,
   "metadata": {},
   "outputs": [],
   "source": [
    "def write_dataframe(filename, dataframe):\n",
    "    \n",
    "    \"\"\"\n",
    "    Write a .csv from a DataFrame\n",
    "    \"\"\"\n",
    "    \n",
    "    dataframe.to_csv(filename, index=False)"
   ]
  },
  {
   "cell_type": "code",
   "execution_count": null,
   "metadata": {},
   "outputs": [],
   "source": [
    "### EXAMPLE ###"
   ]
  },
  {
   "cell_type": "code",
   "execution_count": 8,
   "metadata": {},
   "outputs": [],
   "source": [
    "# Dataframe list creation\n",
    "\n",
    "dataframes = create_dataframes_list(FILES)"
   ]
  },
  {
   "cell_type": "code",
   "execution_count": 9,
   "metadata": {},
   "outputs": [],
   "source": [
    "# Dataframe list assignation and reduction\n",
    "\n",
    "dataframe_list = assign_dataframe_list(dataframes, CATEGORIES)\n",
    "dataframe_list = reduce_dataframe_list(dataframe_list)"
   ]
  },
  {
   "cell_type": "code",
   "execution_count": 10,
   "metadata": {},
   "outputs": [],
   "source": [
    "# Unique DataFrame creation\n",
    "\n",
    "df = create_unique_dataframe(dataframe_list)"
   ]
  },
  {
   "cell_type": "code",
   "execution_count": 11,
   "metadata": {},
   "outputs": [],
   "source": [
    "# Write the resultant DataFrame\n",
    "\n",
    "write_dataframe(\"dataframe.csv\", df)"
   ]
  }
 ],
 "metadata": {
  "kernelspec": {
   "display_name": "Python 3",
   "language": "python",
   "name": "python3"
  },
  "language_info": {
   "codemirror_mode": {
    "name": "ipython",
    "version": 3
   },
   "file_extension": ".py",
   "mimetype": "text/x-python",
   "name": "python",
   "nbconvert_exporter": "python",
   "pygments_lexer": "ipython3",
   "version": "3.7.6"
  }
 },
 "nbformat": 4,
 "nbformat_minor": 4
}
