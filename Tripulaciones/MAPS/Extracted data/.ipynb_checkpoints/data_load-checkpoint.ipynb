{
 "cells": [
  {
   "cell_type": "code",
   "execution_count": 1,
   "metadata": {},
   "outputs": [],
   "source": [
    "# Importaciones\n",
    "\n",
    "import json\n",
    "import numpy as np\n",
    "import pandas as pd\n",
    "from random import choice\n",
    "from os import listdir\n",
    "from os.path import isfile, isdir"
   ]
  },
  {
   "cell_type": "code",
   "execution_count": 2,
   "metadata": {},
   "outputs": [],
   "source": [
    "# Categorías consideradas   ** revisar **\n",
    "\n",
    "CATEGORIES = [\"bar\", \"bus_station\", \"cafe\", \"department_store\", \"hospital\", \"park\", \n",
    "              \"parking\", \"pharmacy\", \"primary_school\", \"restaurant\", \n",
    "              \"school\", \"secondary_school\", \"shopping_mall\", \"subway_station\", \n",
    "              \"taxi_stand\", \"tourist_attraction\", \"transit_station\", \"university\"]\n",
    "\n",
    "#CATEGORIES = [\"protect\"]\n",
    "\n",
    "# Grupos de categorías consideradas\n",
    "\n",
    "DICT_CATEGORIES = {\"TRANSPORTS\": [\"bus_station\", \"subway_station\", \"parking\", \n",
    "                                  \"taxi_stand\", \"transit_station\"],\n",
    "                   \"ESTABLISHMENTS\": [\"bar\", \"cafe\", \"restaurant\"],\n",
    "                   \"STORES\": [\"department_store\", \"shopping_mall\"],\n",
    "                   \"HEALTH\": [\"hospital\", \"pharmacy\"],\n",
    "                   \"PROTECT\": [\"protect\"],\n",
    "                   \"EDUCATION\": [\"primary_school\", \"school\", \"secondary_school\", \n",
    "                                 \"university\"],\n",
    "                   \"OTHER\": [\"park\", \"tourist_attraction\"]}"
   ]
  },
  {
   "cell_type": "code",
   "execution_count": 3,
   "metadata": {},
   "outputs": [],
   "source": [
    "# Archivos con los datos extraídos\n",
    "# Para todos los archivos sustituir CATEGORIES por listdir()\n",
    "\n",
    "FILES = sorted([file for file in CATEGORIES if isfile(file)])\n",
    "\n",
    "for file in FILES[:]:\n",
    "    if file.startswith(\".\"):\n",
    "        files.remove(file)\n",
    "    elif file.endswith(\"ipynb\") or file.endswith(\"csv\"):\n",
    "        files.remove(file)"
   ]
  },
  {
   "cell_type": "code",
   "execution_count": 4,
   "metadata": {},
   "outputs": [],
   "source": [
    "# Función para extraer un subconjunto de un DataFrame, reducirlo a un tanto por ciento\n",
    "\n",
    "def sample(dataframe, p = 0.8):\n",
    "    nrows, ncols = dataframe.shape\n",
    "    sample = np.random.choice(range(0, nrows - 1), \n",
    "                              size = round(p * nrows), \n",
    "                              replace = False)\n",
    "    \n",
    "    return dataframe.iloc[np.sort(sample), :]\n",
    "\n",
    "\n",
    "# Función para asignar un grupo a los registros de una determinada categoría\n",
    "\n",
    "def assign_category(dataframe, placetype):\n",
    "    for category in DICT_CATEGORIES.keys():\n",
    "        if placetype in DICT_CATEGORIES[category]:\n",
    "            dataframe[\"Types\"] = category\n",
    "            break\n",
    "    \n",
    "    return dataframe"
   ]
  },
  {
   "cell_type": "code",
   "execution_count": 5,
   "metadata": {},
   "outputs": [],
   "source": [
    "# Lectura de los archivos y construcción de una lista de DataFrames\n",
    "\n",
    "def create_dataframes_list(files_list):\n",
    "    dataframes = []\n",
    "    for file in files_list:\n",
    "        \n",
    "        # Lectura de archivo\n",
    "        with open(file, \"r\") as file:\n",
    "            data = file.read().split(\"\\n\\n\")\n",
    "    \n",
    "        while \"\" in data:\n",
    "            data.remove(\"\")\n",
    "    \n",
    "        jsons_data = []\n",
    "        for element in data:\n",
    "            if json.loads(element)[\"results\"]:\n",
    "                jsons_data.append(json.loads(element)[\"results\"])\n",
    "                \n",
    "        # Añade el resultado de cada uno de los sondeos realizados por archivo\n",
    "        dataframe = []\n",
    "        for element in jsons_data:\n",
    "            df = pd.DataFrame()\n",
    "            df[\"Name\"] = [place[\"name\"] for place in element]\n",
    "            df[\"Latitude\"] = [place[\"geometry\"][\"location\"][\"lat\"] for place in element]\n",
    "            df[\"Longitude\"] = [place[\"geometry\"][\"location\"][\"lng\"] for place in element]\n",
    "            df[\"Types\"] = [place[\"types\"] for place in element]\n",
    "            dataframe.append(df)\n",
    "        \n",
    "        if dataframe:\n",
    "            dataframes.append(pd.concat(dataframe, ignore_index = True))\n",
    "            \n",
    "    return dataframes"
   ]
  },
  {
   "cell_type": "code",
   "execution_count": 6,
   "metadata": {},
   "outputs": [],
   "source": [
    "# Limpieza de lista de DataFrames\n",
    "\n",
    "# Asignación de grupos homogéneos a una lista de DataFrames\n",
    "\n",
    "def assign_dataframe_list(dataframe_list, categories):\n",
    "    for dataframe, placetype in zip(dataframe_list, categories):\n",
    "        assign_category(dataframe, placetype)\n",
    "    return dataframe_list\n",
    "\n",
    "# Reducción aleatoria al tanto por ciento de DataFrames en lista de Dataframes\n",
    "\n",
    "def reduce_dataframe_list(dataframe_list):\n",
    "    return [sample(dataframe).reset_index(drop=True) for dataframe in dataframe_list]\n",
    "\n",
    "# Creación de un único DataFrame sin duplicados\n",
    "\n",
    "def create_unique_dataframe(dataframe_list):\n",
    "    dataframe = pd.concat(dataframe_list, ignore_index = True)\n",
    "    dataframe.drop_duplicates([\"Latitude\", \"Longitude\"], inplace=True)\n",
    "    dataframe.reset_index(drop=True, inplace=True)\n",
    "    return dataframe"
   ]
  },
  {
   "cell_type": "code",
   "execution_count": 7,
   "metadata": {},
   "outputs": [],
   "source": [
    "# Construcción de un .csv a partir del DataFrame\n",
    "\n",
    "def write_dataframe(filename, dataframe):\n",
    "    dataframe.to_csv(filename, index=False)"
   ]
  },
  {
   "cell_type": "code",
   "execution_count": null,
   "metadata": {},
   "outputs": [],
   "source": [
    "# EJEMPLO DE APLICACIÓN"
   ]
  },
  {
   "cell_type": "code",
   "execution_count": 8,
   "metadata": {},
   "outputs": [],
   "source": [
    "dataframes = create_dataframes_list(FILES)"
   ]
  },
  {
   "cell_type": "code",
   "execution_count": 9,
   "metadata": {},
   "outputs": [],
   "source": [
    "dataframe_list = assign_dataframe_list(dataframes, CATEGORIES)\n",
    "dataframe_list = reduce_dataframe_list(dataframe_list)"
   ]
  },
  {
   "cell_type": "code",
   "execution_count": 10,
   "metadata": {},
   "outputs": [],
   "source": [
    "df = create_unique_dataframe(dataframe_list)"
   ]
  },
  {
   "cell_type": "code",
   "execution_count": 11,
   "metadata": {},
   "outputs": [],
   "source": [
    "write_dataframe(\"dataframe.csv\", df)"
   ]
  },
  {
   "cell_type": "code",
   "execution_count": 13,
   "metadata": {},
   "outputs": [
    {
     "data": {
      "text/html": [
       "<div>\n",
       "<style scoped>\n",
       "    .dataframe tbody tr th:only-of-type {\n",
       "        vertical-align: middle;\n",
       "    }\n",
       "\n",
       "    .dataframe tbody tr th {\n",
       "        vertical-align: top;\n",
       "    }\n",
       "\n",
       "    .dataframe thead th {\n",
       "        text-align: right;\n",
       "    }\n",
       "</style>\n",
       "<table border=\"1\" class=\"dataframe\">\n",
       "  <thead>\n",
       "    <tr style=\"text-align: right;\">\n",
       "      <th></th>\n",
       "      <th>Name</th>\n",
       "      <th>Latitude</th>\n",
       "      <th>Longitude</th>\n",
       "      <th>Types</th>\n",
       "    </tr>\n",
       "  </thead>\n",
       "  <tbody>\n",
       "    <tr>\n",
       "      <th>0</th>\n",
       "      <td>Mixturas Gastro Bar</td>\n",
       "      <td>40.448136</td>\n",
       "      <td>-3.700150</td>\n",
       "      <td>ESTABLISHMENTS</td>\n",
       "    </tr>\n",
       "    <tr>\n",
       "      <th>1</th>\n",
       "      <td>Willy´S Bar Hamburgueseria</td>\n",
       "      <td>40.447299</td>\n",
       "      <td>-3.701862</td>\n",
       "      <td>ESTABLISHMENTS</td>\n",
       "    </tr>\n",
       "    <tr>\n",
       "      <th>2</th>\n",
       "      <td>La_Esquina 23</td>\n",
       "      <td>40.447377</td>\n",
       "      <td>-3.701910</td>\n",
       "      <td>ESTABLISHMENTS</td>\n",
       "    </tr>\n",
       "    <tr>\n",
       "      <th>3</th>\n",
       "      <td>El Castillo</td>\n",
       "      <td>40.447357</td>\n",
       "      <td>-3.700643</td>\n",
       "      <td>ESTABLISHMENTS</td>\n",
       "    </tr>\n",
       "    <tr>\n",
       "      <th>4</th>\n",
       "      <td>Bar Py</td>\n",
       "      <td>40.447328</td>\n",
       "      <td>-3.702381</td>\n",
       "      <td>ESTABLISHMENTS</td>\n",
       "    </tr>\n",
       "  </tbody>\n",
       "</table>\n",
       "</div>"
      ],
      "text/plain": [
       "                         Name   Latitude  Longitude           Types\n",
       "0         Mixturas Gastro Bar  40.448136  -3.700150  ESTABLISHMENTS\n",
       "1  Willy´S Bar Hamburgueseria  40.447299  -3.701862  ESTABLISHMENTS\n",
       "2               La_Esquina 23  40.447377  -3.701910  ESTABLISHMENTS\n",
       "3                 El Castillo  40.447357  -3.700643  ESTABLISHMENTS\n",
       "4                      Bar Py  40.447328  -3.702381  ESTABLISHMENTS"
      ]
     },
     "execution_count": 13,
     "metadata": {},
     "output_type": "execute_result"
    }
   ],
   "source": [
    "pd.read_csv(\"dataframe.csv\").head()"
   ]
  },
  {
   "cell_type": "code",
   "execution_count": null,
   "metadata": {},
   "outputs": [],
   "source": []
  }
 ],
 "metadata": {
  "kernelspec": {
   "display_name": "Python 3",
   "language": "python",
   "name": "python3"
  },
  "language_info": {
   "codemirror_mode": {
    "name": "ipython",
    "version": 3
   },
   "file_extension": ".py",
   "mimetype": "text/x-python",
   "name": "python",
   "nbconvert_exporter": "python",
   "pygments_lexer": "ipython3",
   "version": "3.7.6"
  }
 },
 "nbformat": 4,
 "nbformat_minor": 4
}
