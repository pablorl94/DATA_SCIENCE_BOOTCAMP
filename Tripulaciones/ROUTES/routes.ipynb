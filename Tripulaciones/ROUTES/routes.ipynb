{
 "cells": [
  {
   "cell_type": "code",
   "execution_count": 1,
   "metadata": {},
   "outputs": [],
   "source": [
    "# Importations\n",
    "\n",
    "import json\n",
    "from datetime import datetime\n",
    "import openrouteservice\n",
    "import pandas as pd\n",
    "import pyproj\n",
    "from shapely import geometry\n",
    "from shapely.geometry import Point, LineString, Polygon, MultiPolygon"
   ]
  },
  {
   "cell_type": "code",
   "execution_count": 2,
   "metadata": {},
   "outputs": [],
   "source": [
    "def extract_coordinates_radius(dataframe, rad_col, lng_col, lat_col):\n",
    "    \n",
    "    \"\"\"\n",
    "    Extract coordinates and radius from a DataFrame.\n",
    "    \"\"\"\n",
    "    \n",
    "    radiuses, points_list = [], []\n",
    "\n",
    "    for i, row in dataframe.iterrows():\n",
    "        radiuses.append(row[rad_col])\n",
    "        points_list.append((row[lng_col], row[lat_col]))\n",
    "        \n",
    "    return radiuses, points_list"
   ]
  },
  {
   "cell_type": "code",
   "execution_count": 3,
   "metadata": {},
   "outputs": [],
   "source": [
    "def transform_coordinates(coord1, coord2, reverse=False):\n",
    "    \n",
    "    \"\"\"\n",
    "    Transform coordinates between different reference systems.\n",
    "    \"\"\"\n",
    "    \n",
    "    system1, system2 = \"epsg:4326\", \"epsg:32632\"\n",
    "    if reverse:\n",
    "        system1, system2 = system2, system1 \n",
    "    transformer = pyproj.Transformer.from_crs(system1, system2)\n",
    "    \n",
    "    return transformer.transform(coord1, coord2)"
   ]
  },
  {
   "cell_type": "code",
   "execution_count": 4,
   "metadata": {},
   "outputs": [],
   "source": [
    "def reverse_coordinates(coordinates_list):\n",
    "    \n",
    "    \"\"\"\n",
    "    Reverse coordinates order in a coordinates list.\n",
    "    \"\"\"\n",
    "    \n",
    "    return [(coor[1], coor[0]) for coor in coordinates_list]"
   ]
  },
  {
   "cell_type": "code",
   "execution_count": 5,
   "metadata": {},
   "outputs": [],
   "source": [
    "def create_buffer_polygon(point, radius, resolution=1):\n",
    "    \n",
    "    \"\"\"\n",
    "    Create a polygon around a point from a given radius.\n",
    "    \"\"\"\n",
    "    \n",
    "    point_utm = transform_coordinates(*point)\n",
    "    point_buffer = Point(point_utm).buffer(distance = radius, \n",
    "                                           resolution = resolution)\n",
    "    polygon_points = []\n",
    "    for point in point_buffer.exterior.coords:\n",
    "        polygon_points.append(transform_coordinates(*point, reverse = True))\n",
    "\n",
    "    return polygon_points"
   ]
  },
  {
   "cell_type": "code",
   "execution_count": 6,
   "metadata": {},
   "outputs": [],
   "source": [
    "def style_function(color):\n",
    "    \n",
    "    \"\"\"\n",
    "    A useful function to generate different color styles.\n",
    "    \"\"\"\n",
    "    \n",
    "    return lambda feature: dict(color = color, weight = 3, opacity = 0.5)"
   ]
  },
  {
   "cell_type": "code",
   "execution_count": 7,
   "metadata": {},
   "outputs": [],
   "source": [
    "def get_normal_route(client, coordinates):\n",
    "    \n",
    "    \"\"\"\n",
    "    Calculate the route between two points given by their coordinates.\n",
    "    \"\"\"\n",
    "    \n",
    "    normal_route = client.directions(coordinates,\n",
    "                                     profile = \"foot-walking\",\n",
    "                                     preference = \"recommended\",\n",
    "                                     format_out = \"geojson\",\n",
    "                                     geometry_simplify = True,\n",
    "                                     dry_run = False)\n",
    "    \n",
    "    return normal_route"
   ]
  },
  {
   "cell_type": "code",
   "execution_count": 8,
   "metadata": {},
   "outputs": [],
   "source": [
    "def get_buffer_route(normal_route):\n",
    "    \n",
    "    \"\"\"\n",
    "    Calculate the influence area around the route between two points.\n",
    "    \"\"\"\n",
    "    \n",
    "    route = LineString(normal_route[\"features\"][0][\"geometry\"][\"coordinates\"])\n",
    "    buffer_route = route.buffer(0.005)\n",
    "    \n",
    "    return buffer_route"
   ]
  },
  {
   "cell_type": "code",
   "execution_count": 9,
   "metadata": {},
   "outputs": [],
   "source": [
    "def obtain_polygons(route_buffer, points_list, radiuses):\n",
    "    \n",
    "    \"\"\"\n",
    "    Generate the polygons that are present in an influence area.\n",
    "    \"\"\"\n",
    "    \n",
    "    sites_polygon = []\n",
    "    \n",
    "    for site_coordinates, radius in zip(points_list, radiuses):\n",
    "        if route_buffer.intersects(Point(site_coordinates)):\n",
    "            site_polygon_coordinates = create_buffer_polygon(site_coordinates, \n",
    "                                                             radius = radius)\n",
    "            sites_polygon.append(Polygon(site_polygon_coordinates))\n",
    "        \n",
    "    return sites_polygon"
   ]
  },
  {
   "cell_type": "code",
   "execution_count": 10,
   "metadata": {},
   "outputs": [],
   "source": [
    "def get_detour_route(client, coordinates, buffer_route, sites_polygon):\n",
    "    \n",
    "    \"\"\"\n",
    "    Get the best route between two points avoiding forbidden polygons.\n",
    "    \"\"\"\n",
    "    \n",
    "    request_params = {\"coordinates\": coordinates,\n",
    "                      \"profile\": \"foot-walking\",\n",
    "                      \"preference\": \"recommended\",\n",
    "                      \"format_out\": \"geojson\",\n",
    "                      \"options\": {\n",
    "                          \"avoid_polygons\": geometry.mapping(MultiPolygon(sites_polygon))\n",
    "                      },\n",
    "                      \"geometry_simplify\": True,\n",
    "                      \"dry_run\": False}\n",
    "    \n",
    "    route_detour = client.directions(**request_params)\n",
    "    \n",
    "    return route_detour"
   ]
  },
  {
   "cell_type": "code",
   "execution_count": 11,
   "metadata": {},
   "outputs": [],
   "source": [
    "def get_detour_route_coordinates(detour_route):\n",
    "    \n",
    "    \"\"\"\n",
    "    Extract the coordinates of the best route calculated.\n",
    "    \"\"\"\n",
    "    \n",
    "    coor = detour_route[\"features\"][0][\"geometry\"][\"coordinates\"]\n",
    "    \n",
    "    return coor"
   ]
  },
  {
   "cell_type": "code",
   "execution_count": 12,
   "metadata": {},
   "outputs": [],
   "source": [
    "def create_route_json(coordinates, dtype = \"list\"):\n",
    "    \n",
    "    \"\"\"\n",
    "    Create a json object with a route coordinates list or dict.\n",
    "    \"\"\"\n",
    "    \n",
    "    if dtype == \"dict\":\n",
    "        coordinates = [[element[\"lng\"], element[\"lat\"]] for element in coordinates]\n",
    "    elif dtype == \"list\":\n",
    "        coordinates = [[element[0], element[1]] for element in coordinates]\n",
    "        \n",
    "    route = {\"type\": \"Feature\",\n",
    "             \"geometry\": {\"type\": \"LineString\", \n",
    "                          \"coordinates\": coordinates}}\n",
    "    return route"
   ]
  },
  {
   "cell_type": "code",
   "execution_count": 13,
   "metadata": {},
   "outputs": [],
   "source": [
    "def main(coordinates):\n",
    "    \n",
    "    \"\"\"\n",
    "    The main function to get the best route between two points.\n",
    "    \"\"\"\n",
    "    \n",
    "    API_KEY = \"5b3ce3597851110001cf62486d267b042a754245aeb826068a8ea035\"\n",
    "    client = openrouteservice.Client(key=API_KEY)\n",
    "    coords = (coordinates[0], coordinates[1])\n",
    "    df = pd.read_csv(\"points.csv\")\n",
    "    radiuses, points_list = extract_coordinates_radius(dataframe = df, \n",
    "                                                       rad_col = \"radio(m)\", \n",
    "                                                       lng_col = \"Longitude\",\n",
    "                                                       lat_col = \"Latitude\")\n",
    "    normal_route = get_normal_route(client, coords)\n",
    "    buffer_route = get_buffer_route(normal_route)\n",
    "    sites_polygon = obtain_polygons(buffer_route, points_list, radiuses)\n",
    "    route_detour = get_detour_route(client, coords, buffer_route, sites_polygon)\n",
    "    route_coordinates = get_detour_route_coordinates(route_detour)\n",
    "    route_coordinates.insert(0, list(coords[0]))\n",
    "    route_coordinates.append(list(coords[1]))\n",
    "    \n",
    "    return create_route_json(route_coordinates, dtype=\"list\")"
   ]
  },
  {
   "cell_type": "code",
   "execution_count": 14,
   "metadata": {},
   "outputs": [],
   "source": [
    "def parse(input_info):\n",
    "    \n",
    "    \"\"\"\n",
    "    A function to parse the given information in an specific format.\n",
    "    \"\"\"\n",
    "    \n",
    "    parameters = input_info.split(\"&\")\n",
    "    parsed_info = {parameter.split(\"=\")[0]: parameter.split(\"=\")[1] \\\n",
    "                   for parameter in parameters}\n",
    "    origin_info = parsed_info[\"origin\"].split(\",\")\n",
    "    origin = (float(origin_info[0]), float(origin_info[1]))\n",
    "\n",
    "    destination_info = parsed_info[\"destination\"].split(\",\")\n",
    "    destination = (float(destination_info[0]), float(destination_info[1]))\n",
    "\n",
    "    coordinates = (origin, destination)\n",
    "\n",
    "    return coordinates"
   ]
  },
  {
   "cell_type": "code",
   "execution_count": 15,
   "metadata": {},
   "outputs": [],
   "source": [
    "### EXAMPLE ###"
   ]
  },
  {
   "cell_type": "code",
   "execution_count": 16,
   "metadata": {},
   "outputs": [
    {
     "data": {
      "text/plain": [
       "{'type': 'Feature',\n",
       " 'geometry': {'type': 'LineString',\n",
       "  'coordinates': [[-3.714517, 40.43305],\n",
       "   [-3.714517, 40.433055],\n",
       "   [-3.710347, 40.432923],\n",
       "   [-3.710198, 40.435266],\n",
       "   [-3.709939, 40.438747],\n",
       "   [-3.709856, 40.438747],\n",
       "   [-3.709855, 40.438758],\n",
       "   [-3.70839, 40.438682],\n",
       "   [-3.708381, 40.4388],\n",
       "   [-3.708298, 40.438797],\n",
       "   [-3.708298, 40.438797]]}}"
      ]
     },
     "execution_count": 16,
     "metadata": {},
     "output_type": "execute_result"
    }
   ],
   "source": [
    "coords = parse(\"origin=-3.714517,40.433050&destination=-3.708298,40.438797\")\n",
    "coor = main(coords)\n",
    "coor"
   ]
  },
  {
   "cell_type": "code",
   "execution_count": 17,
   "metadata": {},
   "outputs": [
    {
     "data": {
      "text/html": [
       "<div style=\"width:100%;\"><div style=\"position:relative;width:100%;height:0;padding-bottom:60%;\"><span style=\"color:#565656\">Make this Notebook Trusted to load map: File -> Trust Notebook</span><iframe src=\"about:blank\" style=\"position:absolute;width:100%;height:100%;left:0;top:0;border:none !important;\" data-html=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 onload=\"this.contentDocument.open();this.contentDocument.write(atob(this.getAttribute('data-html')));this.contentDocument.close();\" allowfullscreen webkitallowfullscreen mozallowfullscreen></iframe></div></div>"
      ],
      "text/plain": [
       "<folium.folium.Map at 0x1035a5890>"
      ]
     },
     "execution_count": 17,
     "metadata": {},
     "output_type": "execute_result"
    }
   ],
   "source": [
    "import folium\n",
    "\n",
    "coords = coor[\"geometry\"][\"coordinates\"]\n",
    "\n",
    "map = folium.Map(location = [40.433050, -3.714517],\n",
    "                 tiles='Stamen Toner',\n",
    "                 zoom_start = 16)\n",
    "\n",
    "for point in coords:\n",
    "    folium.Marker(reverse_coordinates([point])[0]).add_to(map)\n",
    "\n",
    "map"
   ]
  }
 ],
 "metadata": {
  "kernelspec": {
   "display_name": "Python 3",
   "language": "python",
   "name": "python3"
  },
  "language_info": {
   "codemirror_mode": {
    "name": "ipython",
    "version": 3
   },
   "file_extension": ".py",
   "mimetype": "text/x-python",
   "name": "python",
   "nbconvert_exporter": "python",
   "pygments_lexer": "ipython3",
   "version": "3.7.6"
  }
 },
 "nbformat": 4,
 "nbformat_minor": 4
}
